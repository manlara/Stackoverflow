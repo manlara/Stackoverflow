{
 "cells": [
  {
   "cell_type": "raw",
   "metadata": {},
   "source": [
    "The files: \n",
    "Badges.xml.gz, Comments.xml.gz, PostLinks.xml.gz, Tags.xml.gz, PostHistory.xml.gz, Users.xml.gz, Votes.xml.gz, Posts.xml.gz contain zipped XML files from statistics overflow, a smaller cousin to the more popular Stackoverflow. The schema is partially outlined here: http://meta.stackexchange.com/questions/2677/database-schema-documentation-for-the-public-data-dump-and-sede?rq=1"
   ]
  },
  {
   "cell_type": "code",
   "execution_count": 75,
   "metadata": {
    "collapsed": true
   },
   "outputs": [],
   "source": [
    "%matplotlib inline\n",
    "# Parse xml\n",
    "import pandas as pd\n",
    "from pandas import *\n",
    "import numpy as np\n",
    "import glob\n",
    "import json, re\n",
    "import time\n",
    "from dateutil.parser import parse"
   ]
  },
  {
   "cell_type": "markdown",
   "metadata": {},
   "source": [
    "## Get Stackoverflow data into Pandas DataFrame object"
   ]
  },
  {
   "cell_type": "code",
   "execution_count": 77,
   "metadata": {
    "collapsed": true
   },
   "outputs": [],
   "source": [
    "df_posts = pd.read_csv(\"stackoverflow/posts.csv\", encoding=\"utf-8\")\n",
    "df_posts.CreationDate = pd.to_datetime(df_posts.CreationDate)\n",
    "df_badges = pd.read_csv(\"stackoverflow/badges.csv\", encoding=\"utf-8\")\n",
    "df_users = pd.read_csv(\"stackoverflow/users.csv\", encoding=\"utf-8\")\n",
    "df_comments = pd.read_csv(\"stackoverflow/comments.csv\", encoding=\"utf-8\")\n",
    "df_votes = pd.read_csv(\"stackoverflow/votes.csv\", encoding=\"utf-8\")"
   ]
  },
  {
   "cell_type": "code",
   "execution_count": 78,
   "metadata": {
    "collapsed": false
   },
   "outputs": [
    {
     "name": "stdout",
     "output_type": "stream",
     "text": [
      "Posts:\n",
      "Index([            u'ViewCount', u'LastEditorDisplayName',\n",
      "                  u'ClosedDate',      u'LastEditorUserId',\n",
      "                    u'ParentID',          u'LastEditDate',\n",
      "                u'CommentCount',           u'AnswerCount',\n",
      "            u'AcceptedAnswerId',                 u'Score',\n",
      "          u'CommunityOwnedDate',            u'PostTypeId',\n",
      "                 u'OwnerUserId',                  u'Tags',\n",
      "                u'CreationDate',         u'FavoriteCount',\n",
      "                          u'Id',      u'LastActivityDate'],\n",
      "      dtype='object')\n",
      "----------------------------------------------------------------------\n",
      "Badges:\n",
      "Index([u'Date', u'UserId', u'Id', u'Name'], dtype='object')\n",
      "----------------------------------------------------------------------\n",
      "Users:\n",
      "Index([     u'DownVotes',            u'Age',     u'WebsiteUrl',\n",
      "           u'Reputation',          u'Views', u'LastAccessDate',\n",
      "              u'UpVotes',   u'CreationDate',             u'Id'],\n",
      "      dtype='object')\n",
      "----------------------------------------------------------------------\n",
      "Comments:\n",
      "Index([u'CreationDate', u'UserId', u'Score', u'PostId', u'Id'], dtype='object')\n",
      "----------------------------------------------------------------------\n",
      "Votes:\n",
      "Index([u'CreationDate', u'VoteTypeId', u'UserId', u'BountyAmount', u'PostId',\n",
      "       u'Id'],\n",
      "      dtype='object')\n",
      "----------------------------------------------------------------------\n"
     ]
    }
   ],
   "source": [
    "# Columns for each table\n",
    "print \"Posts:\"\n",
    "print df_posts.columns\n",
    "print \"-\"*70\n",
    "print \"Badges:\"\n",
    "print df_badges.columns\n",
    "print \"-\"*70\n",
    "print \"Users:\"\n",
    "print df_users.columns\n",
    "print \"-\"*70\n",
    "print \"Comments:\"\n",
    "print df_comments.columns\n",
    "print \"-\"*70\n",
    "print \"Votes:\"\n",
    "print df_votes.columns\n",
    "print \"-\"*70"
   ]
  },
  {
   "cell_type": "code",
   "execution_count": 20,
   "metadata": {
    "collapsed": false
   },
   "outputs": [
    {
     "name": "stdout",
     "output_type": "stream",
     "text": [
      "Length of tags: 117656\n",
      "[u'bayesian', u'prior', u'elicitation']\n"
     ]
    }
   ],
   "source": [
    "# We can look at the top 5 post tags easily\n",
    "df_posts.Tags[:3]\n",
    "tags = []\n",
    "for row in df_posts.Tags.dropna():\n",
    "    for tag in row.split(\"><\"):\n",
    "        tags.append(tag.replace(\"<\",\"\").replace(\">\",\"\"))\n",
    "print \"Length of tags: %i\" % len(tags)\n",
    "print tags[:3]"
   ]
  },
  {
   "cell_type": "code",
   "execution_count": 79,
   "metadata": {
    "collapsed": false
   },
   "outputs": [
    {
     "name": "stdout",
     "output_type": "stream",
     "text": [
      "r                     7244\n",
      "regression            5413\n",
      "time-series           2737\n",
      "machine-learning      2564\n",
      "probability           2081\n",
      "hypothesis-testing    2000\n",
      "distributions         1880\n",
      "self-study            1784\n",
      "logistic              1624\n",
      "correlation           1585\n",
      "dtype: int64\n"
     ]
    }
   ],
   "source": [
    "s_top_tags = pd.Series(tags).value_counts().order(ascending=False)\n",
    "print s_top_tags[:10]"
   ]
  },
  {
   "cell_type": "code",
   "execution_count": 87,
   "metadata": {
    "collapsed": false
   },
   "outputs": [
    {
     "name": "stdout",
     "output_type": "stream",
     "text": [
      "r:\n",
      " 7.875968 %\n",
      "regression:\n",
      " 5.885231 %\n",
      "time-series:\n",
      " 2.975776 %\n",
      "machine-learning:\n",
      " 2.787684 %\n",
      "probability:\n",
      " 2.262547 %\n",
      "hypothesis-testing:\n",
      " 2.174480 %\n",
      "distributions:\n",
      " 2.044011 %\n",
      "self-study:\n",
      " 1.939636 %\n",
      "logistic:\n",
      " 1.765678 %\n",
      "correlation:\n",
      " 1.723276 %\n"
     ]
    }
   ],
   "source": [
    "# Which fraction of posts contain the word machine-learning\n",
    "total = len(df_posts.Tags)\n",
    "dict_top_tags = {}\n",
    "for top_tag in s_top_tags.index[:10]:\n",
    "    frac = len(df_posts.Tags.dropna()[df_posts.Tags.dropna().str.contains(\"<\"+top_tag+\">\")]) / float(total)\n",
    "    dict_top_tags[top_tag] = frac*100\n",
    "    print \"%s:\\n %f %%\" % (top_tag, frac*100)"
   ]
  },
  {
   "cell_type": "code",
   "execution_count": 89,
   "metadata": {
    "collapsed": false
   },
   "outputs": [
    {
     "data": {
      "text/plain": [
       "<matplotlib.text.Text at 0x114e2f8d0>"
      ]
     },
     "execution_count": 89,
     "metadata": {},
     "output_type": "execute_result"
    },
    {
     "data": {
      "image/png": "[encoded data removed]",
      "text/plain": [
       "<matplotlib.figure.Figure at 0x10f8cb350>"
      ]
     },
     "metadata": {},
     "output_type": "display_data"
    }
   ],
   "source": [
    "pd.Series(dict_top_tags).order(ascending=False).plot(kind='bar').set_ylabel(\"fraction of post (%)\")"
   ]
  },
  {
   "cell_type": "code",
   "execution_count": 102,
   "metadata": {
    "collapsed": false
   },
   "outputs": [
    {
     "name": "stdout",
     "output_type": "stream",
     "text": [
      "The average question scores: 2.491368\n",
      "The average answer scores: 3.138017\n"
     ]
    }
   ],
   "source": [
    "# We could also ask\n",
    "# Find the average score of a question vs an answer\n",
    "# PostTypeId = 1 (Question), 2 (Answer)\n",
    "avg_question_score = df_posts[df_posts.PostTypeId==1].Score.mean()\n",
    "avg_answer_score   = df_posts[df_posts.PostTypeId==2].Score.mean()\n",
    "print \"The average question scores: %f\" % (avg_question_score)\n",
    "print \"The average answer scores: %f\" % (avg_answer_score)"
   ]
  },
  {
   "cell_type": "code",
   "execution_count": 117,
   "metadata": {
    "collapsed": false
   },
   "outputs": [],
   "source": [
    "# We could also look into the possible correlation of a user's reputation and total score from posts\n",
    "# In the posts table is a OwnerUserId that is tied to the Id of the user where the reputation is stored\n",
    "score_grouped_by_OwnerUserId = df_posts.Score.groupby(df_posts.OwnerUserId).sum()\n",
    "score_grouped_by_OwnerUserId[:20]\n",
    "users_reputation = df_users[[\"Reputation\", \"Id\"]]"
   ]
  },
  {
   "cell_type": "code",
   "execution_count": 122,
   "metadata": {
    "collapsed": false
   },
   "outputs": [
    {
     "name": "stdout",
     "output_type": "stream",
     "text": [
      "   Id  Score\n",
      "0  -1      0\n",
      "1   5   1463\n",
      "2   6     85\n",
      "   Reputation  Id\n",
      "0           1  -1\n",
      "1         101   2\n",
      "2         101   3\n"
     ]
    }
   ],
   "source": [
    "df_score_grouped_by_OwnerUserId = pd.DataFrame({\"Id\": score_grouped_by_OwnerUserId.index, \"Score\": score_grouped_by_OwnerUserId.values})\n",
    "print df_score_grouped_by_OwnerUserId[:3]\n",
    "print users_reputation[:3]"
   ]
  },
  {
   "cell_type": "code",
   "execution_count": 125,
   "metadata": {
    "collapsed": false
   },
   "outputs": [
    {
     "name": "stdout",
     "output_type": "stream",
     "text": [
      "   Id  Score  Reputation\n",
      "0  -1      0           1\n",
      "1   5   1463        6792\n",
      "2   6     85         457\n"
     ]
    }
   ],
   "source": [
    "merged_score_reputation = merge(df_score_grouped_by_OwnerUserId, users_reputation)\n",
    "print merged_score_reputation[:3]"
   ]
  },
  {
   "cell_type": "code",
   "execution_count": 129,
   "metadata": {
    "collapsed": false
   },
   "outputs": [
    {
     "data": {
      "text/html": [
       "<div>\n",
       "<table border=\"1\" class=\"dataframe\">\n",
       "  <thead>\n",
       "    <tr style=\"text-align: right;\">\n",
       "      <th></th>\n",
       "      <th>Score</th>\n",
       "      <th>Reputation</th>\n",
       "    </tr>\n",
       "  </thead>\n",
       "  <tbody>\n",
       "    <tr>\n",
       "      <th>Score</th>\n",
       "      <td>1.000000</td>\n",
       "      <td>0.984862</td>\n",
       "    </tr>\n",
       "    <tr>\n",
       "      <th>Reputation</th>\n",
       "      <td>0.984862</td>\n",
       "      <td>1.000000</td>\n",
       "    </tr>\n",
       "  </tbody>\n",
       "</table>\n",
       "</div>"
      ],
      "text/plain": [
       "               Score  Reputation\n",
       "Score       1.000000    0.984862\n",
       "Reputation  0.984862    1.000000"
      ]
     },
     "execution_count": 129,
     "metadata": {},
     "output_type": "execute_result"
    }
   ],
   "source": [
    "merged_score_reputation[[\"Score\", \"Reputation\"]].corr()"
   ]
  },
  {
   "cell_type": "code",
   "execution_count": 130,
   "metadata": {
    "collapsed": true
   },
   "outputs": [],
   "source": [
    "#Lastly\n",
    "# What time of the day should one post to get a fast accepted response. \n",
    "# This is done by lokking at the median response time of the accepted answer as a function of the question post hour\n",
    "# The response time is the length of time in between when the question was first posted and when the accepted answer \n",
    "# was first posted in hours\n",
    "# What is the range of response times across question post hours"
   ]
  },
  {
   "cell_type": "code",
   "execution_count": 132,
   "metadata": {
    "collapsed": false
   },
   "outputs": [
    {
     "name": "stdout",
     "output_type": "stream",
     "text": [
      "14   2010-07-19 19:19:46.160\n",
      "Name: CreationDate, dtype: datetime64[ns]\n"
     ]
    }
   ],
   "source": [
    "from pandas.tseries.offsets import *\n",
    "print df_posts[df_posts.Id==15].CreationDate"
   ]
  },
  {
   "cell_type": "code",
   "execution_count": 137,
   "metadata": {
    "collapsed": false
   },
   "outputs": [],
   "source": [
    "# There is an AcceptedAnswerId in the posts table for questions that links to the answer's user ID\n",
    "df_question_postdate = pd.DataFrame({\"Id\": df_posts.AcceptedAnswerId, \"PostDate\": df_posts.CreationDate})\n",
    "df_question_postdate= df_question_postdate.dropna()"
   ]
  },
  {
   "cell_type": "code",
   "execution_count": 141,
   "metadata": {
    "collapsed": false
   },
   "outputs": [],
   "source": [
    "df_merge_answer_question = merge(df_question_postdate, df_posts[[\"Id\",\"CreationDate\"]], on='Id', how='inner')"
   ]
  },
  {
   "cell_type": "code",
   "execution_count": 144,
   "metadata": {
    "collapsed": false
   },
   "outputs": [],
   "source": [
    "df_merge_answer_question.columns = [\"Id\", \"PostDate\", \"AnswerDate\"]"
   ]
  },
  {
   "cell_type": "code",
   "execution_count": 148,
   "metadata": {
    "collapsed": false
   },
   "outputs": [],
   "source": [
    "df_merge_answer_question[\"ResponseTime\"] = (df_merge_answer_question.AnswerDate-df_merge_answer_question.PostDate)/np.timedelta64(1,'h')"
   ]
  },
  {
   "cell_type": "code",
   "execution_count": 156,
   "metadata": {
    "collapsed": false
   },
   "outputs": [],
   "source": [
    "df_merge_answer_question[\"PostHour\"] = pd.Series(pd.DatetimeIndex(df_merge_answer_question.PostDate).hour)"
   ]
  },
  {
   "cell_type": "code",
   "execution_count": 158,
   "metadata": {
    "collapsed": false
   },
   "outputs": [
    {
     "data": {
      "text/html": [
       "<div>\n",
       "<table border=\"1\" class=\"dataframe\">\n",
       "  <thead>\n",
       "    <tr style=\"text-align: right;\">\n",
       "      <th></th>\n",
       "      <th>Id</th>\n",
       "      <th>PostDate</th>\n",
       "      <th>AnswerDate</th>\n",
       "      <th>ResponseTime</th>\n",
       "      <th>PostHour</th>\n",
       "    </tr>\n",
       "  </thead>\n",
       "  <tbody>\n",
       "    <tr>\n",
       "      <th>0</th>\n",
       "      <td>15</td>\n",
       "      <td>2010-07-19 19:12:12.510</td>\n",
       "      <td>2010-07-19 19:19:46.160</td>\n",
       "      <td>0.126014</td>\n",
       "      <td>19</td>\n",
       "    </tr>\n",
       "    <tr>\n",
       "      <th>1</th>\n",
       "      <td>59</td>\n",
       "      <td>2010-07-19 19:12:57.157</td>\n",
       "      <td>2010-07-19 19:43:20.423</td>\n",
       "      <td>0.506463</td>\n",
       "      <td>19</td>\n",
       "    </tr>\n",
       "    <tr>\n",
       "      <th>2</th>\n",
       "      <td>5</td>\n",
       "      <td>2010-07-19 19:13:28.577</td>\n",
       "      <td>2010-07-19 19:14:43.050</td>\n",
       "      <td>0.020687</td>\n",
       "      <td>19</td>\n",
       "    </tr>\n",
       "  </tbody>\n",
       "</table>\n",
       "</div>"
      ],
      "text/plain": [
       "   Id                PostDate              AnswerDate  ResponseTime  PostHour\n",
       "0  15 2010-07-19 19:12:12.510 2010-07-19 19:19:46.160      0.126014        19\n",
       "1  59 2010-07-19 19:12:57.157 2010-07-19 19:43:20.423      0.506463        19\n",
       "2   5 2010-07-19 19:13:28.577 2010-07-19 19:14:43.050      0.020687        19"
      ]
     },
     "execution_count": 158,
     "metadata": {},
     "output_type": "execute_result"
    }
   ],
   "source": [
    "df_merge_answer_question[:3]"
   ]
  },
  {
   "cell_type": "code",
   "execution_count": 163,
   "metadata": {
    "collapsed": false
   },
   "outputs": [],
   "source": [
    "# Group by post hour\n",
    "grouped_by_posthour = df_merge_answer_question[\"ResponseTime\"].groupby(df_merge_answer_question[\"PostHour\"])"
   ]
  },
  {
   "cell_type": "code",
   "execution_count": 170,
   "metadata": {
    "collapsed": false
   },
   "outputs": [
    {
     "data": {
      "text/plain": [
       "<matplotlib.axes._subplots.AxesSubplot at 0x1199f3850>"
      ]
     },
     "execution_count": 170,
     "metadata": {},
     "output_type": "execute_result"
    },
    {
     "data": {
      "image/png": "[encoded data removed]",
      "text/plain": [
       "<matplotlib.figure.Figure at 0x119a5a150>"
      ]
     },
     "metadata": {},
     "output_type": "display_data"
    }
   ],
   "source": [
    "responsetime_by_hour = (grouped_by_posthour.max()-grouped_by_posthour.min())\n",
    "responsetime_by_hour.plot()"
   ]
  },
  {
   "cell_type": "code",
   "execution_count": 180,
   "metadata": {
    "collapsed": false
   },
   "outputs": [
    {
     "name": "stdout",
     "output_type": "stream",
     "text": [
      "Longest response time: 34429.100302 hours\n",
      "Shortest response time: 6636.008376 hours\n",
      "Longest - Shortest response time: 27793.091926 hours\n"
     ]
    }
   ],
   "source": [
    "print \"Longest response time: %f hours\" % (responsetime_by_hour.max())\n",
    "print \"Shortest response time: %f hours\" % (responsetime_by_hour.min())\n",
    "print \"Longest - Shortest response time: %f hours\" % (responsetime_by_hour.max()-responsetime_by_hour.min())"
   ]
  },
  {
   "cell_type": "code",
   "execution_count": null,
   "metadata": {
    "collapsed": true
   },
   "outputs": [],
   "source": []
  }
 ],
 "metadata": {
  "kernelspec": {
   "display_name": "Python 2",
   "language": "python",
   "name": "python2"
  },
  "language_info": {
   "codemirror_mode": {
    "name": "ipython",
    "version": 2
   },
   "file_extension": ".py",
   "mimetype": "text/x-python",
   "name": "python",
   "nbconvert_exporter": "python",
   "pygments_lexer": "ipython2",
   "version": "2.7.10"
  }
 },
 "nbformat": 4,
 "nbformat_minor": 0
}
